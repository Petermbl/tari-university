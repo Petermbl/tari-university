{
 "cells": [
  {
   "cell_type": "markdown",
   "metadata": {},
   "source": [
    "# Probability of a Byzantine Takeover of the Digital Assets Network "
   ]
  },
  {
   "cell_type": "markdown",
   "metadata": {},
   "source": [
    "## Notation Used  \n",
    "\n",
    "General notation of statistical expressions.  \n",
    "\n",
    "- Let $N$ be the total number of nodes in the network. \n",
    "- Let $n$ be the committee size.\n",
    "- Let $m$ be the number of bad actors.\n",
    "- Let $T$ be the Byzantine Fault Tolerance (BFT) threshold.\n",
    "\n",
    "There is a pool with $N$ nodes. The pool contains $m$ malicious nodes or bad actors. From within the pool, a random \n",
    "selection of nodes, $n$ is drawn. From this selection, the probability of drawing a threshold of bad actors, $T$, needs to \n",
    "be calculated.  "
   ]
  },
  {
   "cell_type": "markdown",
   "metadata": {},
   "source": [
    "## Statistical Calculation\n",
    "\n",
    "A single probability from the overarching question was used as a means to derive the formulae, as shown in the following \n",
    "example. \n",
    "\n",
    "**Example**: What is the probability of selecting a majority of bad nodes from a total of $5​$ nodes if the committee \n",
    "size is $3​$? There are $3​$ bad nodes $(B1, B2, B3)​$ and $2​$ good nodes $(G1, G2)​$.\n",
    "\n",
    "\n",
    "The first step is to calculate the number of combinations where bad and good nodes can be chosen: \n",
    "\n",
    "| &nbsp;&nbsp;Draw 1st node&nbsp;&nbsp; | &nbsp;&nbsp;Draw 2nd node&nbsp;&nbsp; | &nbsp;&nbsp;Draw 3rd node&nbsp;&nbsp; | Are bad nodes <br /> in the majority? |\n",
    "| :------------------------------: | :-------------------------------: | :-------------------------------: | :----------------------------: |\n",
    "| <div class=\"wrap_bad\">$B1$</div> | <div class=\"wrap_bad\">$B2$</div>  | <div class=\"wrap_bad\">$B3$</div> |              Yes               |\n",
    "| <div class=\"wrap_bad\">$B1$</div> | <div class=\"wrap_bad\">$B2$</div>  | <div class=\"wrap_good\">$G1$</div> |              Yes               |\n",
    "| <div class=\"wrap_bad\">$B1$</div> | <div class=\"wrap_bad\">$B2$</div>  | <div class=\"wrap_good\">$G2$</div> |              Yes               |\n",
    "| <div class=\"wrap_bad\">$B1$</div> | <div class=\"wrap_bad\">$B3$</div>  | <div class=\"wrap_good\">$G1$</div> |              Yes               |\n",
    "| <div class=\"wrap_bad\">$B1$</div> | <div class=\"wrap_bad\">$B3$</div>  | <div class=\"wrap_good\">$G2$</div> |              Yes               |\n",
    "| <div class=\"wrap_bad\">$B1$</div> | <div class=\"wrap_good\">$G1$</div> | <div class=\"wrap_good\">$G2$</div> |               No               |\n",
    "| <div class=\"wrap_bad\">$B2$</div> | <div class=\"wrap_bad\">$B3$</div>  | <div class=\"wrap_good\">$G1$</div> |              Yes ​              |\n",
    "| <div class=\"wrap_bad\">$B2$</div> | <div class=\"wrap_bad\">$B3$</div>  | <div class=\"wrap_good\">$G2$</div> |              Yes ​              |\n",
    "| <div class=\"wrap_bad\">$B2$</div> | <div class=\"wrap_good\">$G1$</div> | <div class=\"wrap_good\">$G2$</div> |               No               |\n",
    "| <div class=\"wrap_bad\">$B3$</div> | <div class=\"wrap_good\">$G1$</div> | <div class=\"wrap_good\">$G2$</div> |               No               |\n",
    "|                                  |                                   |    **Tally of Yes responses**     |              $7$               |\n",
    "\n",
    "From this list, the number of combinations where $B$ is the majority can then be tallied. In this case, there are $7$\n",
    "combinations where $B$ is the majority. Thus, from the $10$ combinations, there are $7$ combinations where there is a \n",
    "majority of bad nodes. Therefore, the quotient of $7$ and $10$ is the probability $0.7$. \n",
    "\n",
    "This method is limited in calculating the probability where the variables are large. For example, if the same question \n",
    "was posed, \n",
    "but one had to calculate the probability of selecting a majority of bad nodes from a total of $100$ nodes, with a \n",
    "committee size of $60$, $60$ bad nodes and $40$ good nodes, the number of combinations where bad and good nodes can be \n",
    "chosen is $1.27E+28$."
   ]
  },
  {
   "cell_type": "markdown",
   "metadata": {},
   "source": [
    "# Statistical Calculation \n",
    "\n",
    "Literature about [BFT threshold](../../consensus-mechanisms/BFT-consensus-mechanisms-applications/MainReport.md) advises \n",
    "the number of good nodes to be at least $\\frac{2}{3} \\cdot n+1​$, where $n​$ is the number of nodes. In the calculations \n",
    "that follow, BFT threshold of, for example, $67​$% of N, is implemented with rounding up to ensure that at least that \n",
    "fraction is obtained. In this sense, $67​$% of N simulates $\\frac{2}{3} \\cdot n+1​$.\n"
   ]
  },
  {
   "cell_type": "code",
   "execution_count": 5,
   "metadata": {},
   "outputs": [
    {
     "name": "stdout",
     "output_type": "stream",
     "text": [
      "\u001b[H\u001b[2J"
     ]
    }
   ],
   "source": [
    "from IPython import get_ipython\n",
    "get_ipython().magic('clear')\n",
    "\n",
    "import numpy as np\n",
    "import math\n",
    "import operator\n",
    "from decimal import Decimal\n",
    "\n",
    "def nCk(n,k): \n",
    "    if (n - k) < 0 or n < 0 or k < 0:\n",
    "        return 0;\n",
    "    return np.float64((Decimal(math.factorial(n)) / Decimal(math.factorial(n - k))) / Decimal(math.factorial(k)))\n",
    "\n",
    "def probability(type_threshold, no_of_type_in_set, sample_size, set_size) -> np.float64:\n",
    "    #Type checking - Python does not have built-in type checking   \n",
    "    type_error = False\n",
    "    ##type_threshold\n",
    "    try:\n",
    "        operator.index(type_threshold)\n",
    "        T = np.int_(type_threshold)\n",
    "    except TypeError:\n",
    "        print('Error: \\'type_threshold\\' - expected int (or int variant), received %s' % (type(type_threshold)))\n",
    "        type_error = True\n",
    "    \n",
    "    ##no_of_type_in_set\n",
    "    try:\n",
    "        operator.index(no_of_type_in_set)\n",
    "        m = np.int_(no_of_type_in_set)\n",
    "    except TypeError:\n",
    "        print('Error: \\'no_of_type_in_set\\' - expected int (or int variant), received %s' % (type(no_of_type_in_set)))\n",
    "        type_error = True\n",
    "    \n",
    "    ##sample_size\n",
    "    try:\n",
    "        operator.index(sample_size)\n",
    "        n = np.int_(sample_size)\n",
    "    except TypeError:\n",
    "        print('Error: \\'sample_size\\' - expected int (or int variant), received %s' % (type(sample_size)))\n",
    "        type_error = True\n",
    "    \n",
    "    ##set_size\n",
    "    try:\n",
    "        operator.index(set_size)\n",
    "        N = np.int_(set_size)\n",
    "    except TypeError:\n",
    "        print('Error: \\'set_size\\' - expected int (or int variant), received %s' % (type(set_size)))\n",
    "        type_error = True\n",
    "    \n",
    "    if type_error:\n",
    "        return 0\n",
    "    \n",
    "    #Calculation\n",
    "    P_tot = 0\n",
    "    #Calculate probability\n",
    "    for i in range(T, n + 1):\n",
    "        P_tot = P_tot + nCk(m, i) * nCk(N - m, n - i) / nCk(N, n)\n",
    "    return P_tot\n",
    "\n"
   ]
  },
  {
   "cell_type": "markdown",
   "metadata": {},
   "source": [
    "#### Variation of Total Nodes\n",
    "\n",
    "The variables and results are below: \n",
    "\n",
    "- N (total number of nodes in the network) = $100, 300, 500, 1000$\n",
    "- m (number of bad actors) = $60$% of N\n",
    "- T (BFT threshold) = $67$% of N\n",
    "- n (committee size) = ranging from $1$ to $1,000$ \n",
    "\n",
    "The above graph was calculated using Python ([variations of N](https://github.com/tari-labs/modelling/blob/master/scenarios/N_variations.py) with dependencies [hypergeometric distribution](https://github.com/tari-labs/modelling/blob/master/utils/hyper_dist_prob.py)). Below is a sample of the data where there is a total of 100. The highlighted data was previously used in the Crude Monte Carlo Simulation when supplying the theoretical mean."
   ]
  },
  {
   "cell_type": "markdown",
   "metadata": {},
   "source": [
    "| &nbsp;&nbsp;Total Nodes&nbsp;&nbsp; | &nbsp;&nbsp;Bad Nodes&nbsp;&nbsp; | &nbsp;&nbsp;Committee Size&nbsp;&nbsp; | &nbsp;&nbsp;BFT Threshold&nbsp;&nbsp; | &nbsp;&nbsp;Probability&nbsp;&nbsp;            |\n",
    "| :---------------------------------: | :-------------------------------: | :------------------------------------: | :-----------------------------------: | ---------------------------------------------- |\n",
    "|                 100                 |                60                 |                   1                    |                   1                   | 0.6                                            |\n",
    "|                 100                 |                60                 |                   2                    |                   2                   | 0.3575757575757576                             |\n",
    "|  <div class=\"highlight\">100</div>   |  <div class=\"highlight\">60</div>  |     <div class=\"highlight\">3</div>     |    <div class=\"highlight\">2</div>     | <div class=\"highlight\">0.649474335188621</div> |\n",
    "|                 100                 |                60                 |                   4                    |                   3                   | 0.47343240951488375                            |\n",
    "|                 100                 |                60                 |                   5                    |                   4                   | 0.33162085827770661                            |\n",
    "|                 100                 |                60                 |                   6                    |                   4                   | 0.5443381851334722                             |\n",
    "|                 100                 |                60                 |                   7                    |                   5                   | 0.4153500188485931                             |\n",
    "|                 100                 |                60                 |                   8                    |                   6                   | 0.30661160770090995                            |\n",
    "|                 100                 |                60                 |                   9                    |                   6                   | 0.47996269793634677                            |\n",
    "|                 100                 |                60                 |                   10                   |                   7                   | 0.37423758246308586                            |\n",
    "|                 100                 |                60                 |                   11                   |                   8                   | 0.28361605491457653                            |\n",
    "|                 100                 |                60                 |                   12                   |                   8                   | 0.4320215340178938                             |\n",
    "|                 100                 |                60                 |                   13                   |                   9                   | 0.3409545354772218                             |\n",
    "|                 100                 |                60                 |                   14                   |                  10                   | 0.2623321970180976                             |\n",
    "|                 100                 |                60                 |                   15                   |                  10                   | 0.39288184738975973                            |"
   ]
  },
  {
   "cell_type": "code",
   "execution_count": null,
   "metadata": {},
   "outputs": [],
   "source": []
  },
  {
   "cell_type": "markdown",
   "metadata": {},
   "source": [
    "#### Variation of Byzantine Fault-tolerance Threshold\n",
    "\n",
    "The variables and results are below: \n",
    "\n",
    "  - N (total number of nodes in the network) = $100$\n",
    "  - m (number of bad actors) = $60$% of N\n",
    "  - T (BFT threshold) = $50$%, $55$%, $60$%, $67$% of N\n",
    "  - n (committee size) = ranging from $1$ to $100$ "
   ]
  },
  {
   "cell_type": "code",
   "execution_count": null,
   "metadata": {},
   "outputs": [],
   "source": []
  },
  {
   "cell_type": "markdown",
   "metadata": {},
   "source": [
    "The above graph was calculated using Python \n",
    "([variations of BFT](https://github.com/tari-labs/modelling/blob/master/scenarios/T_variations.py) with dependencies \n",
    "[hypergeometric distribution](https://github.com/tari-labs/modelling/blob/master/utils/hyper_dist_prob.py)). From a plot \n",
    "of committee size versus probability where the number of nodes remains at $100$ with a change in $T$, the BFT \n",
    "threshold, ranging from $50$% to $67$%, it can be seen that When the BFT threshold is $50$% and $55$%, the probability \n",
    "is low when the committee size is small; as the committee size increases, the probability increases, and tends to $1$. \n",
    "The probability is higher for the case where the BFT threshold is $50$% than when the probability is $55$%. \n",
    "\n",
    "When the BFT threshold is $60$%, the probability decreases from $0.63$ to approximately $0.59$, where it remains constant. \n",
    "\n",
    "When the BFT threshold is $65$% and $67$%, the probability decreases from $0.38$ and tends to zero. This confirms the \n",
    "BFT threshold of $\\frac{2}{3} \\cdot n+1$ as per literature."
   ]
  },
  {
   "cell_type": "markdown",
   "metadata": {},
   "source": [
    "#### Variation of Total Number of Nodes with Committee Size 10\n",
    "\n",
    "The variables and results are below: \n",
    "\n",
    "- N (total number of nodes in the network) = ranging from $10$ to $350$\n",
    "- m (number of bad actors) = $60$% of N\n",
    "- T (BFT threshold) = $67$% of N\n",
    "- n (committee size) = $10$"
   ]
  },
  {
   "cell_type": "code",
   "execution_count": null,
   "metadata": {},
   "outputs": [],
   "source": []
  },
  {
   "cell_type": "markdown",
   "metadata": {},
   "source": [
    "The above graph was calculated using Excel \n",
    "([variations of N with n fixed](https://github.com/tari-labs/modelling/blob/master/other/variation_of_N_n_fixed.xlsx)). For the \n",
    "graph showing varying probabilities with respect to the total number of network nodes, where the committee size is $10$, \n",
    "the probability dramatically increases when the total nodes is $3$ times more than the committee size and onwards. The \n",
    "probability plateaus at $0.35$. "
   ]
  },
  {
   "cell_type": "markdown",
   "metadata": {},
   "source": [
    "#### Variation of Total Number of Nodes with Committee Size 100\n",
    "\n",
    "The variables and results are below: \n",
    "\n",
    "- N (total number of nodes in the network) = ranging from $100$ to $1,300$\n",
    "- m (number of bad actors) = $60$% of N\n",
    "- T (BFT threshold) = $67​$% of N\n",
    "- n (committee size) = $100$"
   ]
  },
  {
   "cell_type": "code",
   "execution_count": null,
   "metadata": {},
   "outputs": [],
   "source": []
  },
  {
   "cell_type": "markdown",
   "metadata": {},
   "source": [
    "The above graph was calculated using Excel \n",
    "([variations of N with n fixed](https://github.com/tari-labs/modelling/blob/master/other/variation_of_N_n_fixed.xlsx)). \n",
    "From this and the previous graph, it can be seen that probabilities are significantly lower when the committee size is \n",
    "$100$ compared to when it is $10$. There is an increase in probability up to a network size of $700$, albeit, not as steep as the \n",
    "change when the committee size is $10$. The probability plateaus at $0.08$.\n",
    "\n",
    "The larger the committee size, the fewer dramatic changes there are in the probability. "
   ]
  },
  {
   "cell_type": "markdown",
   "metadata": {},
   "source": [
    "#### Variation of Bad Nodes with Committee Size 10 and 100\n",
    "\n",
    "The variables and results are below: \n",
    "\n",
    "- N (total number of nodes in the network) = ranging from $10$ and $100$ to $50,000$\n",
    "- m (number of bad actors) = $10$%, $20$%, $30$%, $40$%, $50$%, $60$%, $70$%, $80$% and $90$% of N\n",
    "- T (BFT threshold) = $67$% of N\n",
    "- n (committee size) = $10$ and $100$"
   ]
  },
  {
   "cell_type": "code",
   "execution_count": null,
   "metadata": {},
   "outputs": [],
   "source": []
  },
  {
   "cell_type": "markdown",
   "metadata": {},
   "source": [
    "The above graphs were calculated using Excel \n",
    "([bad node variation where n is 100](https://github.com/tari-labs/modelling/blob/master/other/bad_nodes_variation_10_10.xlsx)). These \n",
    "graphs show varying probabilities when the percentage of bad nodes is $20$, $40$, $60$ and $90$. The value when the \n",
    "probability plateaus is used to construct the following graph for both committee sizes $10$ and $100$. \n"
   ]
  },
  {
   "cell_type": "code",
   "execution_count": null,
   "metadata": {},
   "outputs": [],
   "source": []
  },
  {
   "cell_type": "markdown",
   "metadata": {},
   "source": [
    "The above graph was calculated using Excel \n",
    "([bad node percentage at 10 and 100](https://github.com/tari-labs/modelling/blob/master/other/bad_node_percentage_10_100.xlsx)). The \n",
    "graph shows changes in the probability due to changes in percentage of bad nodes when the committee size is $10$ and $100$.  When \n",
    "the committee size is $10$, there is a change in probability when the bad node percentage is between $30$ and $80$.  \n",
    "When the committee size is $100$, there is a steep increase in the probability when the bad node percentage is between \n",
    "$50$ and $80$. When the committee size is $100$, the probability remains lower as the bad node percentage increases and \n",
    "has a steeper gradient when the change in probability occurs. Whereas, when the committee size is $10$, the probability \n",
    "begins to increase at a lower percentage of bad nodes. \n"
   ]
  },
  {
   "cell_type": "markdown",
   "metadata": {},
   "source": [
    "## Conclusions and Remarks \n",
    "\n",
    "With regard to the Crude Monte Carlo Simulation, at this building block stage, probabilities were calculated and \n",
    "distributions of nodes within the network illustrated.\n",
    "\n",
    "With regard to the statistical calculation, comments can be made for each of the varied parameters. \n",
    "\n",
    "- Total nodes in the network: The smaller the pool of total nodes in the network, the lower the probability of bad \n",
    "actors controlling the network. However, the probability difference is near negligible if the committee size is large. \n",
    "This parameter will also be difficult to control, and the network will be ever-increasing. This can be seen in the \n",
    "graph in [Variation of Total Nodes](#variation-of-total-nodes). \n",
    "- BFT threshold: This threshold should be at least  $\\frac{2}{3} \\cdot n+1$ as per literature. This can be seen in the \n",
    "graph in [Variation of Byzantine Fault-tolerance Threshold](#variation-of-byzantine-fault-tolerance-threshold).\n",
    "- Committee size: The larger the committee size, the lower the probability of bad actors controlling the network. This can \n",
    "be seen in the graph in \n",
    "[Variation of Total Number of Nodes with Committee Size 10](#variation-of-total-number-of-nodes-with-committee-size-10) \n",
    "and [Variation of Total Number of Nodes with Committee Size 100](#variation-of-total-number-of-nodes-with-committee-size-100).\n",
    "- Bad nodes: While this variable cannot be controlled, the probability of bad actors controlling the network can remain \n",
    "low, as the percentage of bad nodes increases if the committee size is approximately $100$ or larger. This can be seen in the \n",
    "graphs in [Variation of Bad Nodes with Committee Size 10 and 100](#variation-of-bad-nodes-with-committee-size-10-and-100)"
   ]
  },
  {
   "cell_type": "code",
   "execution_count": null,
   "metadata": {},
   "outputs": [],
   "source": []
  }
 ],
 "metadata": {
  "kernelspec": {
   "display_name": "Python 3",
   "language": "python",
   "name": "python3"
  },
  "language_info": {
   "codemirror_mode": {
    "name": "ipython",
    "version": 3
   },
   "file_extension": ".py",
   "mimetype": "text/x-python",
   "name": "python",
   "nbconvert_exporter": "python",
   "pygments_lexer": "ipython3",
   "version": "3.7.3"
  }
 },
 "nbformat": 4,
 "nbformat_minor": 4
}
